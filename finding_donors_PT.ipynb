{
  "nbformat": 4,
  "nbformat_minor": 0,
  "metadata": {
    "colab": {
      "name": "finding_donors_PT.ipynb",
      "version": "0.3.2",
      "provenance": [],
      "collapsed_sections": [],
      "toc_visible": true
    },
    "kernelspec": {
      "display_name": "Python 3",
      "language": "python",
      "name": "python3"
    }
  },
  "cells": [
    {
      "metadata": {
        "colab_type": "text",
        "id": "x58wkyD4Cxwb"
      },
      "cell_type": "markdown",
      "source": [
        "# Nanodegree Engenheiro de Machine Learning\n",
        "## Aprendizado Supervisionado\n",
        "## Projeto: Encontrando doadores para a *CharityML*"
      ]
    },
    {
      "metadata": {
        "colab_type": "text",
        "id": "C75CSIU3Cxwp"
      },
      "cell_type": "markdown",
      "source": [
        "Seja bem-vindo ao segundo projeto do Nanodegree Engenheiro de Machine Learning! Neste notebook, você receberá alguns códigos de exemplo e será seu trabalho implementar as funcionalidades adicionais necessárias para a conclusão do projeto. As seções cujo cabeçalho começa com **'Implementação'** indicam que o bloco de código posterior requer funcionalidades adicionais que você deve desenvolver. Para cada parte do projeto serão fornecidas instruções e as diretrizes da implementação estarão marcadas no bloco de código com uma expressão `'TODO'`. \n",
        "Por favor, leia cuidadosamente as instruções!\n",
        "\n",
        "Além de implementações de código, você terá de responder questões relacionadas ao projeto e à sua implementação. Cada seção onde você responderá uma questão terá um cabeçalho com o termo **'Questão X'**. Leia com atenção as questões e forneça respostas completas nas caixas de texto que começam com o termo **'Resposta:'**. A submissão do seu projeto será avaliada baseada nas suas resostas para cada uma das questões além das implementações que você disponibilizar.\n",
        "\n",
        ">**Nota:** Por favor, especifique QUAL A VERSÃO DO PYTHON utilizada por você para a submissão deste notebook. As células \"Code\" e \"Markdown\" podem ser executadas utilizando o atalho do teclado **Shift + Enter**. Além disso, as células \"Markdown\" podem ser editadas clicando-se duas vezes na célula.\n"
      ]
    },
    {
      "metadata": {
        "colab_type": "text",
        "id": "V_me_uBQCxwt"
      },
      "cell_type": "markdown",
      "source": [
        "## Iniciando\n",
        "\n",
        "Neste projeto, você utilizará diversos algoritmos de aprendizado supervisionado para modelar com precisão a remuneração de indivíduos utilizando dados coletados no censo americano de 1994. Você escolherá o algoritmo mais adequado através dos resultados preliminares e irá otimizá-lo para modelagem dos dados. O seu objetivo com esta implementação é construir um modelo que pode predizer com precisão se um indivíduo possui uma remuneração superior a $50,000. Este tipo de tarefa pode surgir em organizações sem fins lucrativos que sobrevivem de doações. Entender a remuneração de um indivíduo pode ajudar a organização o montante mais adequado para uma solicitação de doação, ou ainda se eles realmente deveriam entrar em contato com a pessoa. Enquanto pode ser uma tarefa difícil determinar a faixa de renda de uma pesssoa de maneira direta, nós podemos inferir estes valores através de outros recursos disponíveis publicamente. \n",
        "\n",
        "O conjunto de dados para este projeto se origina do [Repositório de Machine Learning UCI](https://archive.ics.uci.edu/ml/datasets/Census+Income) e foi cedido por Ron Kohavi e Barry Becker, após a sua publicação no artigo _\"Scaling Up the Accuracy of Naive-Bayes Classifiers: A Decision-Tree Hybrid\"_. Você pode encontrar o artigo de Ron Kohavi [online](https://www.aaai.org/Papers/KDD/1996/KDD96-033.pdf). Os dados que investigaremos aqui possuem algumas pequenas modificações se comparados com os dados originais, como por exemplo a remoção da funcionalidade `'fnlwgt'` e a remoção de registros inconsistentes.\n"
      ]
    },
    {
      "metadata": {
        "colab_type": "text",
        "id": "qMSXrfUXCxxK"
      },
      "cell_type": "markdown",
      "source": [
        "----\n",
        "## Explorando os dados\n",
        "Execute a célula de código abaixo para carregas as bibliotecas Python necessárias e carregas os dados do censo. Perceba que a última coluna deste cojunto de dados, `'income'`, será o rótulo do nosso alvo (se um indivíduo possui remuneração igual ou maior do que $50,000 anualmente). Todas as outras colunas são dados de cada indívduo na base de dados do censo."
      ]
    },
    {
      "metadata": {
        "colab_type": "code",
        "id": "sQMP_HNvCxxR",
        "outputId": "549e37f9-1bbf-4417-f80b-0d5345f65043",
        "colab": {
          "base_uri": "https://localhost:8080/",
          "height": 151
        }
      },
      "cell_type": "code",
      "source": [
        "# Importe as bibliotecas necessárias para o projeto.\n",
        "import numpy as np\n",
        "import pandas as pd\n",
        "from time import time\n",
        "from IPython.display import display # Permite a utilização da função display() para DataFrames.\n",
        "\n",
        "# Importação da biblioteca de visualização visuals.py\n",
        "import visuals as vs\n",
        "\n",
        "# Impotação da biblioteca seaborn\n",
        "import seaborn as sns\n",
        "\n",
        "# Exibição amigável para notebooks\n",
        "%matplotlib inline\n",
        "\n",
        "# Carregando os dados do Censo\n",
        "data = pd.read_csv(\"census.csv\")\n",
        "\n",
        "# Sucesso - Exibindo o primeiro registro\n",
        "display(data.head(n=1))"
      ],
      "execution_count": 31,
      "outputs": [
        {
          "output_type": "display_data",
          "data": {
            "text/html": [
              "<div>\n",
              "<style scoped>\n",
              "    .dataframe tbody tr th:only-of-type {\n",
              "        vertical-align: middle;\n",
              "    }\n",
              "\n",
              "    .dataframe tbody tr th {\n",
              "        vertical-align: top;\n",
              "    }\n",
              "\n",
              "    .dataframe thead th {\n",
              "        text-align: right;\n",
              "    }\n",
              "</style>\n",
              "<table border=\"1\" class=\"dataframe\">\n",
              "  <thead>\n",
              "    <tr style=\"text-align: right;\">\n",
              "      <th></th>\n",
              "      <th>age</th>\n",
              "      <th>workclass</th>\n",
              "      <th>education_level</th>\n",
              "      <th>education-num</th>\n",
              "      <th>marital-status</th>\n",
              "      <th>occupation</th>\n",
              "      <th>relationship</th>\n",
              "      <th>race</th>\n",
              "      <th>sex</th>\n",
              "      <th>capital-gain</th>\n",
              "      <th>capital-loss</th>\n",
              "      <th>hours-per-week</th>\n",
              "      <th>native-country</th>\n",
              "      <th>income</th>\n",
              "    </tr>\n",
              "  </thead>\n",
              "  <tbody>\n",
              "    <tr>\n",
              "      <th>0</th>\n",
              "      <td>39</td>\n",
              "      <td>State-gov</td>\n",
              "      <td>Bachelors</td>\n",
              "      <td>13.0</td>\n",
              "      <td>Never-married</td>\n",
              "      <td>Adm-clerical</td>\n",
              "      <td>Not-in-family</td>\n",
              "      <td>White</td>\n",
              "      <td>Male</td>\n",
              "      <td>2174.0</td>\n",
              "      <td>0.0</td>\n",
              "      <td>40.0</td>\n",
              "      <td>United-States</td>\n",
              "      <td>&lt;=50K</td>\n",
              "    </tr>\n",
              "  </tbody>\n",
              "</table>\n",
              "</div>"
            ],
            "text/plain": [
              "   age   workclass education_level  education-num  marital-status  \\\n",
              "0   39   State-gov       Bachelors           13.0   Never-married   \n",
              "\n",
              "      occupation    relationship    race    sex  capital-gain  capital-loss  \\\n",
              "0   Adm-clerical   Not-in-family   White   Male        2174.0           0.0   \n",
              "\n",
              "   hours-per-week  native-country income  \n",
              "0            40.0   United-States  <=50K  "
            ]
          },
          "metadata": {
            "tags": []
          }
        }
      ]
    },
    {
      "metadata": {
        "colab_type": "text",
        "id": "cTvrw3P2Cxx6"
      },
      "cell_type": "markdown",
      "source": [
        "### Implementação: Explorando os Dados\n",
        "\n",
        "Uma investigação superficial da massa de dados determinará quantos indivíduos se enquadram em cada grupo e nos dirá sobre o percentual destes indivúdos com remuneração anual superior à \\$50,000. No código abaixo, você precisará calcular o seguinte:\n",
        "- O número total de registros, `'n_records'`\n",
        "- O número de indivíduos com remuneração anual superior à \\$50,000, `'n_greater_50k'`.\n",
        "- O número de indivíduos com remuneração anual até \\$50,000, `'n_at_most_50k'`.\n",
        "- O percentual de indivíduos com remuneração anual superior à \\$50,000, `'greater_percent'`.\n",
        "\n",
        "** DICA: ** Você pode precisar olhar a tabela acima para entender como os registros da coluna `'income'` estão formatados."
      ]
    },
    {
      "metadata": {
        "colab_type": "code",
        "id": "WangcDShCxx-",
        "outputId": "b26c856b-5a49-4012-c6bd-e1dafe4d83eb",
        "colab": {
          "base_uri": "https://localhost:8080/",
          "height": 85
        }
      },
      "cell_type": "code",
      "source": [
        "# TODO: Número total de registros.\n",
        "n_records = data.shape[0]\n",
        "# TODO: Número de registros com remuneração anual superior à $50,000\n",
        "n_greater_50k = data[data['income'] == \">50K\"].shape[0]\n",
        "\n",
        "# TODO: O número de registros com remuneração anual até $50,000\n",
        "n_at_most_50k = data[data[\"income\"] == \"<=50K\"].shape[0]\n",
        "\n",
        "# TODO: O percentual de indivíduos com remuneração anual superior à $50,000\n",
        "greater_percent = float(n_greater_50k)*100/n_records\n",
        "\n",
        "# Exibindo os resultados\n",
        "print(\"Total number of records: {}\".format(n_records))\n",
        "print(\"Individuals making more than $50,000: {}\".format(n_greater_50k))\n",
        "print(\"Individuals making at most $50,000: {}\".format(n_at_most_50k))\n",
        "print(\"Percentage of individuals making more than $50,000: {:.2f}%\".format(greater_percent))"
      ],
      "execution_count": 13,
      "outputs": [
        {
          "output_type": "stream",
          "text": [
            "Total number of records: 45222\n",
            "Individuals making more than $50,000: 11208\n",
            "Individuals making at most $50,000: 34014\n",
            "Percentage of individuals making more than $50,000: 24.78%\n"
          ],
          "name": "stdout"
        }
      ]
    },
    {
      "metadata": {
        "id": "cTiKk8H6MIBb",
        "colab_type": "code",
        "colab": {
          "base_uri": "https://localhost:8080/",
          "height": 1211
        },
        "outputId": "47ef2636-45c3-4053-bdc9-79909115950b"
      },
      "cell_type": "code",
      "source": [
        "sns.set(style=\"whitegrid\", color_codes=True)\n",
        "sns.factorplot(\"sex\", col='education_level', data=data, hue='income', kind=\"count\", col_wrap=4);"
      ],
      "execution_count": 32,
      "outputs": [
        {
          "output_type": "stream",
          "text": [
            "/usr/local/lib/python3.6/dist-packages/seaborn/categorical.py:1468: FutureWarning: remove_na is deprecated and is a private function. Do not use.\n",
            "  stat_data = remove_na(group_data[hue_mask])\n"
          ],
          "name": "stderr"
        },
        {
          "output_type": "display_data",
          "data": {
            "image/png": "[encoded data removed]",
            "text/plain": [
              "<matplotlib.figure.Figure at 0x7fe6ebd12f60>"
            ]
          },
          "metadata": {
            "tags": []
          }
        }
      ]
    },
    {
      "metadata": {
        "colab_type": "text",
        "id": "QTrB68EwCxyz"
      },
      "cell_type": "markdown",
      "source": [
        "** Explorando as colunas **\n",
        "* **age**: contínuo. \n",
        "* **workclass**: Private, Self-emp-not-inc, Self-emp-inc, Federal-gov, Local-gov, State-gov, Without-pay, Never-worked. \n",
        "* **education**: Bachelors, Some-college, 11th, HS-grad, Prof-school, Assoc-acdm, Assoc-voc, 9th, 7th-8th, 12th, Masters, 1st-4th, 10th, Doctorate, 5th-6th, Preschool. \n",
        "* **education-num**: contínuo. \n",
        "* **marital-status**: Married-civ-spouse, Divorced, Never-married, Separated, Widowed, Married-spouse-absent, Married-AF-spouse. \n",
        "* **occupation**: Tech-support, Craft-repair, Other-service, Sales, Exec-managerial, Prof-specialty, Handlers-cleaners, Machine-op-inspct, Adm-clerical, Farming-fishing, Transport-moving, Priv-house-serv, Protective-serv, Armed-Forces. \n",
        "* **relationship**: Wife, Own-child, Husband, Not-in-family, Other-relative, Unmarried. \n",
        "* **race**: Black, White, Asian-Pac-Islander, Amer-Indian-Eskimo, Other. \n",
        "* **sex**: Female, Male. \n",
        "* **capital-gain**: contínuo. \n",
        "* **capital-loss**: contínuo. \n",
        "* **hours-per-week**: contínuo. \n",
        "* **native-country**: United-States, Cambodia, England, Puerto-Rico, Canada, Germany, Outlying-US(Guam-USVI-etc), India, Japan, Greece, South, China, Cuba, Iran, Honduras, Philippines, Italy, Poland, Jamaica, Vietnam, Mexico, Portugal, Ireland, France, Dominican-Republic, Laos, Ecuador, Taiwan, Haiti, Columbia, Hungary, Guatemala, Nicaragua, Scotland, Thailand, Yugoslavia, El-Salvador, Trinadad&Tobago, Peru, Hong, Holand-Netherlands."
      ]
    },
    {
      "metadata": {
        "colab_type": "text",
        "id": "rzjVrjj8Cxy2"
      },
      "cell_type": "markdown",
      "source": [
        "----\n",
        "## Preparando os dados\n",
        "Antes de que os dados possam ser utilizados como input para algoritmos de machine learning, muitas vezes eles precisam ser tratados, formatados e reestruturados — este processo é conhecido como **pré-processamento**. Felizmente neste conjunto de dados não existem registros inconsistentes para tratamento, porém algumas colunas precisam ser ajustadas. Este pré-processamento pode ajudar muito com o resultado e poder de predição de quase todos os algoritmos de aprendizado."
      ]
    },
    {
      "metadata": {
        "colab_type": "text",
        "id": "CKjjiLWKCxy6"
      },
      "cell_type": "markdown",
      "source": [
        "### Transformando os principais desvios das colunas contínuas\n",
        "Um conjunto de dados pode conter ao menos uma coluna onde os valores tendem a se próximar para um único número, mas também podem conter registros com o mesmo atributo contendo um valor muito maior ou muito menor do que esta tendência. Algoritmos podem ser sensíveis para estes casos de distribuição de valores e este fator pode prejudicar sua performance se a distribuição não estiver normalizada de maneira adequada. Com o conjunto de dados do censo, dois atributos se encaixam nesta descrição: '`capital-gain'` e `'capital-loss'`.\n",
        "\n",
        "Execute o código da célula abaixo para plotar um histograma destes dois atributos. Repare na distribuição destes valores."
      ]
    },
    {
      "metadata": {
        "colab_type": "code",
        "id": "JOdR0EgRCxzX",
        "outputId": "1fc59c28-3c6a-4dbe-8d20-a85d645ddbde",
        "colab": {
          "base_uri": "https://localhost:8080/",
          "height": 391
        }
      },
      "cell_type": "code",
      "source": [
        "# Dividindo os dados entre features e coluna alvo\n",
        "income_raw = data['income']\n",
        "features_raw = data.drop('income', axis = 1)\n",
        "\n",
        "# Visualizando os principais desvios das colunas contínuas entre os dados\n",
        "vs.distribution(data)"
      ],
      "execution_count": 14,
      "outputs": [
        {
          "output_type": "display_data",
          "data": {
            "image/png": "[encoded data removed]",
            "text/plain": [
              "<matplotlib.figure.Figure at 0x7fe6ebd124a8>"
            ]
          },
          "metadata": {
            "tags": []
          }
        }
      ]
    },
    {
      "metadata": {
        "colab_type": "text",
        "id": "kvb7f50TCx0F"
      },
      "cell_type": "markdown",
      "source": [
        "Para atributos com distribuição muito distorcida, tais como `'capital-gain'` e `'capital-loss'`, é uma prática comum aplicar uma <a href=\"https://en.wikipedia.org/wiki/Data_transformation_(statistics)\">transformação logarítmica</a> nos dados para que os valores muito grandes e muito pequenos não afetem a performance do algoritmo de aprendizado. Usar a transformação logarítmica reduz significativamente os limites dos valores afetados pelos outliers (valores muito grandes ou muito pequenos). Deve-se tomar cuidado ao aplicar esta transformação, poir o logaritmo de `0` é indefinido, portanto temos que incrementar os valores em uma pequena quantia acima de `0` para aplicar o logaritmo adequadamente.\n",
        "\n",
        "Execute o código da célula abaixo para realizar a transformação nos dados e visualizar os resultados. De novo, note os valores limite e como os valores estão distribuídos."
      ]
    },
    {
      "metadata": {
        "colab_type": "code",
        "id": "HcAcVwh2Cx0P",
        "outputId": "99e4da5b-92a1-4984-cbf1-2aca5724a7e4",
        "colab": {
          "base_uri": "https://localhost:8080/",
          "height": 391
        }
      },
      "cell_type": "code",
      "source": [
        "# Aplicando a transformação de log nos registros distorcidos.\n",
        "skewed = ['capital-gain', 'capital-loss']\n",
        "features_log_transformed = pd.DataFrame(data = features_raw)\n",
        "features_log_transformed[skewed] = features_raw[skewed].apply(lambda x: np.log(x + 1))\n",
        "\n",
        "# Visualizando as novas distribuições após a transformação.\n",
        "vs.distribution(features_log_transformed, transformed = True)"
      ],
      "execution_count": 15,
      "outputs": [
        {
          "output_type": "display_data",
          "data": {
            "image/png": "[encoded data removed]",
            "text/plain": [
              "<matplotlib.figure.Figure at 0x7fe6e92b4b00>"
            ]
          },
          "metadata": {
            "tags": []
          }
        }
      ]
    },
    {
      "metadata": {
        "colab_type": "text",
        "id": "p08nRrAICx0r"
      },
      "cell_type": "markdown",
      "source": [
        "### Normalizando atributos numéricos\n",
        "Além das transformações em atributos distorcidos, é uma boa prática comum realizar algum tipo de adaptação de escala nos atributos numéricos. Ajustar a escala nos dados não modifica o formato da distribuição de cada coluna (tais como `'capital-gain'` ou `'capital-loss'` acima); no entanto, a normalização garante que cada atributo será tratado com o mesmo peso durante a aplicação de aprendizado supervisionado. Note que uma vez aplicada a escala, a observação dos dados não terá o significado original, como exemplificado abaixo.\n",
        "\n",
        "Execute o código da célula abaixo para normalizar cada atributo numérico, nós usaremos ara isso a [`sklearn.preprocessing.MinMaxScaler`](http://scikit-learn.org/stable/modules/generated/sklearn.preprocessing.MinMaxScaler.html)."
      ]
    },
    {
      "metadata": {
        "colab_type": "code",
        "id": "jCIN9SB0Cx0w",
        "outputId": "25c8dfd5-a57f-4e3a-b7f6-cce740991a67",
        "colab": {
          "base_uri": "https://localhost:8080/",
          "height": 377
        }
      },
      "cell_type": "code",
      "source": [
        "# Importando sklearn.preprocessing.StandardScaler\n",
        "from sklearn.preprocessing import MinMaxScaler\n",
        "\n",
        "# Inicializando um aplicador de escala e aplicando em seguida aos atributos\n",
        "scaler = MinMaxScaler() # default=(0, 1)\n",
        "numerical = ['age', 'education-num', 'capital-gain', 'capital-loss', 'hours-per-week']\n",
        "\n",
        "features_log_minmax_transform = pd.DataFrame(data = features_log_transformed)\n",
        "features_log_minmax_transform[numerical] = scaler.fit_transform(features_log_transformed[numerical])\n",
        "\n",
        "# Exibindo um exemplo de registro com a escala aplicada\n",
        "display(features_log_minmax_transform.head(n=5))"
      ],
      "execution_count": 18,
      "outputs": [
        {
          "output_type": "stream",
          "text": [
            "/usr/local/lib/python3.6/dist-packages/sklearn/preprocessing/data.py:323: DataConversionWarning: Data with input dtype int64, float64 were all converted to float64 by MinMaxScaler.\n",
            "  return self.partial_fit(X, y)\n"
          ],
          "name": "stderr"
        },
        {
          "output_type": "display_data",
          "data": {
            "text/html": [
              "<div>\n",
              "<style scoped>\n",
              "    .dataframe tbody tr th:only-of-type {\n",
              "        vertical-align: middle;\n",
              "    }\n",
              "\n",
              "    .dataframe tbody tr th {\n",
              "        vertical-align: top;\n",
              "    }\n",
              "\n",
              "    .dataframe thead th {\n",
              "        text-align: right;\n",
              "    }\n",
              "</style>\n",
              "<table border=\"1\" class=\"dataframe\">\n",
              "  <thead>\n",
              "    <tr style=\"text-align: right;\">\n",
              "      <th></th>\n",
              "      <th>age</th>\n",
              "      <th>workclass</th>\n",
              "      <th>education_level</th>\n",
              "      <th>education-num</th>\n",
              "      <th>marital-status</th>\n",
              "      <th>occupation</th>\n",
              "      <th>relationship</th>\n",
              "      <th>race</th>\n",
              "      <th>sex</th>\n",
              "      <th>capital-gain</th>\n",
              "      <th>capital-loss</th>\n",
              "      <th>hours-per-week</th>\n",
              "      <th>native-country</th>\n",
              "    </tr>\n",
              "  </thead>\n",
              "  <tbody>\n",
              "    <tr>\n",
              "      <th>0</th>\n",
              "      <td>0.301370</td>\n",
              "      <td>State-gov</td>\n",
              "      <td>Bachelors</td>\n",
              "      <td>0.800000</td>\n",
              "      <td>Never-married</td>\n",
              "      <td>Adm-clerical</td>\n",
              "      <td>Not-in-family</td>\n",
              "      <td>White</td>\n",
              "      <td>Male</td>\n",
              "      <td>0.667492</td>\n",
              "      <td>0.0</td>\n",
              "      <td>0.397959</td>\n",
              "      <td>United-States</td>\n",
              "    </tr>\n",
              "    <tr>\n",
              "      <th>1</th>\n",
              "      <td>0.452055</td>\n",
              "      <td>Self-emp-not-inc</td>\n",
              "      <td>Bachelors</td>\n",
              "      <td>0.800000</td>\n",
              "      <td>Married-civ-spouse</td>\n",
              "      <td>Exec-managerial</td>\n",
              "      <td>Husband</td>\n",
              "      <td>White</td>\n",
              "      <td>Male</td>\n",
              "      <td>0.000000</td>\n",
              "      <td>0.0</td>\n",
              "      <td>0.122449</td>\n",
              "      <td>United-States</td>\n",
              "    </tr>\n",
              "    <tr>\n",
              "      <th>2</th>\n",
              "      <td>0.287671</td>\n",
              "      <td>Private</td>\n",
              "      <td>HS-grad</td>\n",
              "      <td>0.533333</td>\n",
              "      <td>Divorced</td>\n",
              "      <td>Handlers-cleaners</td>\n",
              "      <td>Not-in-family</td>\n",
              "      <td>White</td>\n",
              "      <td>Male</td>\n",
              "      <td>0.000000</td>\n",
              "      <td>0.0</td>\n",
              "      <td>0.397959</td>\n",
              "      <td>United-States</td>\n",
              "    </tr>\n",
              "    <tr>\n",
              "      <th>3</th>\n",
              "      <td>0.493151</td>\n",
              "      <td>Private</td>\n",
              "      <td>11th</td>\n",
              "      <td>0.400000</td>\n",
              "      <td>Married-civ-spouse</td>\n",
              "      <td>Handlers-cleaners</td>\n",
              "      <td>Husband</td>\n",
              "      <td>Black</td>\n",
              "      <td>Male</td>\n",
              "      <td>0.000000</td>\n",
              "      <td>0.0</td>\n",
              "      <td>0.397959</td>\n",
              "      <td>United-States</td>\n",
              "    </tr>\n",
              "    <tr>\n",
              "      <th>4</th>\n",
              "      <td>0.150685</td>\n",
              "      <td>Private</td>\n",
              "      <td>Bachelors</td>\n",
              "      <td>0.800000</td>\n",
              "      <td>Married-civ-spouse</td>\n",
              "      <td>Prof-specialty</td>\n",
              "      <td>Wife</td>\n",
              "      <td>Black</td>\n",
              "      <td>Female</td>\n",
              "      <td>0.000000</td>\n",
              "      <td>0.0</td>\n",
              "      <td>0.397959</td>\n",
              "      <td>Cuba</td>\n",
              "    </tr>\n",
              "  </tbody>\n",
              "</table>\n",
              "</div>"
            ],
            "text/plain": [
              "        age          workclass education_level  education-num  \\\n",
              "0  0.301370          State-gov       Bachelors       0.800000   \n",
              "1  0.452055   Self-emp-not-inc       Bachelors       0.800000   \n",
              "2  0.287671            Private         HS-grad       0.533333   \n",
              "3  0.493151            Private            11th       0.400000   \n",
              "4  0.150685            Private       Bachelors       0.800000   \n",
              "\n",
              "        marital-status          occupation    relationship    race      sex  \\\n",
              "0        Never-married        Adm-clerical   Not-in-family   White     Male   \n",
              "1   Married-civ-spouse     Exec-managerial         Husband   White     Male   \n",
              "2             Divorced   Handlers-cleaners   Not-in-family   White     Male   \n",
              "3   Married-civ-spouse   Handlers-cleaners         Husband   Black     Male   \n",
              "4   Married-civ-spouse      Prof-specialty            Wife   Black   Female   \n",
              "\n",
              "   capital-gain  capital-loss  hours-per-week  native-country  \n",
              "0      0.667492           0.0        0.397959   United-States  \n",
              "1      0.000000           0.0        0.122449   United-States  \n",
              "2      0.000000           0.0        0.397959   United-States  \n",
              "3      0.000000           0.0        0.397959   United-States  \n",
              "4      0.000000           0.0        0.397959            Cuba  "
            ]
          },
          "metadata": {
            "tags": []
          }
        }
      ]
    },
    {
      "metadata": {
        "colab_type": "text",
        "id": "4b9RKAaKCx1T"
      },
      "cell_type": "markdown",
      "source": [
        "### Implementação: Pré-processamento dos dados\n",
        "\n",
        "A partir da tabela em **Explorando os dados** acima, nós podemos observar que existem diversos atributos não-numéricos para cada registro. Usualmente, algoritmos de aprendizado esperam que os inputs sejam numéricos, o que requer que os atributos não numéricos (chamados de *variáveis de categoria*) sejam convertidos. Uma maneira popular de converter as variáveis de categoria é utilizar a estratégia **one-hot encoding**. Esta estratégia cria uma variável para cada categoria possível de cada atributo não numérico. Por exemplo, assuma que `algumAtributo` possuí três valores possíveis: `A`, `B`, ou `C`. Nós então transformamos este atributo em três novos atributos: `algumAtributo_A`, `algumAtributo_B` e `algumAtributo_C`.\n",
        "\n",
        "\n",
        "|   | algumAtributo |                    | algumAtributo_A | algumAtributo_B | algumAtributo_C |\n",
        "| :-: | :-: |                            | :-: | :-: | :-: |\n",
        "| 0 |  B  |  | 0 | 1 | 0 |\n",
        "| 1 |  C  | ----> one-hot encode ----> | 0 | 0 | 1 |\n",
        "| 2 |  A  |  | 1 | 0 | 0 |\n",
        "\n",
        "Além disso, assim como os atributos não-numéricos, precisaremos converter a coluna alvo não-numérica, `'income'`, para valores numéricos para que o algoritmo de aprendizado funcione. Uma vez que só existem duas categorias possíveis para esta coluna (\"<=50K\" e \">50K\"), nós podemos evitar a utilização do one-hot encoding e simplesmente transformar estas duas categorias para `0` e `1`, respectivamente. No trecho de código abaixo, você precisará implementar o seguinte:\n",
        " - Utilizar [`pandas.get_dummies()`](http://pandas.pydata.org/pandas-docs/stable/generated/pandas.get_dummies.html?highlight=get_dummies#pandas.get_dummies) para realizar o one-hot encoding nos dados da `'features_log_minmax_transform'`.\n",
        " - Converter a coluna alvo `'income_raw'` para re.\n",
        "   - Transforme os registros com \"<=50K\" para `0` e os registros com \">50K\" para `1`."
      ]
    },
    {
      "metadata": {
        "colab_type": "code",
        "id": "BMLXk1skCx1X",
        "outputId": "03c81fde-4c71-409e-f38c-824fdcc3df39",
        "colab": {
          "base_uri": "https://localhost:8080/",
          "height": 71
        }
      },
      "cell_type": "code",
      "source": [
        "# TODO: Utilize o one-hot encoding nos dados em 'features_log_minmax_transform' utilizando pandas.get_dummies()\n",
        "features_final = pd.get_dummies(features_log_minmax_transform)\n",
        "\n",
        "# TODO: Faça o encode da coluna 'income_raw' para valores numéricos\n",
        "income = income_raw.apply(lambda x: 1 if x == \">50K\" else 0)\n",
        "\n",
        "# Exiba o número de colunas depois do one-hot encoding\n",
        "encoded = list(features_final.columns)\n",
        "print(\"{} total features after one-hot encoding.\".format(len(encoded)))\n",
        "\n",
        "# Descomente a linha abaixo para ver as colunas após o encode\n",
        "print(encoded)"
      ],
      "execution_count": 19,
      "outputs": [
        {
          "output_type": "stream",
          "text": [
            "103 total features after one-hot encoding.\n",
            "['age', 'education-num', 'capital-gain', 'capital-loss', 'hours-per-week', 'workclass_ Federal-gov', 'workclass_ Local-gov', 'workclass_ Private', 'workclass_ Self-emp-inc', 'workclass_ Self-emp-not-inc', 'workclass_ State-gov', 'workclass_ Without-pay', 'education_level_ 10th', 'education_level_ 11th', 'education_level_ 12th', 'education_level_ 1st-4th', 'education_level_ 5th-6th', 'education_level_ 7th-8th', 'education_level_ 9th', 'education_level_ Assoc-acdm', 'education_level_ Assoc-voc', 'education_level_ Bachelors', 'education_level_ Doctorate', 'education_level_ HS-grad', 'education_level_ Masters', 'education_level_ Preschool', 'education_level_ Prof-school', 'education_level_ Some-college', 'marital-status_ Divorced', 'marital-status_ Married-AF-spouse', 'marital-status_ Married-civ-spouse', 'marital-status_ Married-spouse-absent', 'marital-status_ Never-married', 'marital-status_ Separated', 'marital-status_ Widowed', 'occupation_ Adm-clerical', 'occupation_ Armed-Forces', 'occupation_ Craft-repair', 'occupation_ Exec-managerial', 'occupation_ Farming-fishing', 'occupation_ Handlers-cleaners', 'occupation_ Machine-op-inspct', 'occupation_ Other-service', 'occupation_ Priv-house-serv', 'occupation_ Prof-specialty', 'occupation_ Protective-serv', 'occupation_ Sales', 'occupation_ Tech-support', 'occupation_ Transport-moving', 'relationship_ Husband', 'relationship_ Not-in-family', 'relationship_ Other-relative', 'relationship_ Own-child', 'relationship_ Unmarried', 'relationship_ Wife', 'race_ Amer-Indian-Eskimo', 'race_ Asian-Pac-Islander', 'race_ Black', 'race_ Other', 'race_ White', 'sex_ Female', 'sex_ Male', 'native-country_ Cambodia', 'native-country_ Canada', 'native-country_ China', 'native-country_ Columbia', 'native-country_ Cuba', 'native-country_ Dominican-Republic', 'native-country_ Ecuador', 'native-country_ El-Salvador', 'native-country_ England', 'native-country_ France', 'native-country_ Germany', 'native-country_ Greece', 'native-country_ Guatemala', 'native-country_ Haiti', 'native-country_ Holand-Netherlands', 'native-country_ Honduras', 'native-country_ Hong', 'native-country_ Hungary', 'native-country_ India', 'native-country_ Iran', 'native-country_ Ireland', 'native-country_ Italy', 'native-country_ Jamaica', 'native-country_ Japan', 'native-country_ Laos', 'native-country_ Mexico', 'native-country_ Nicaragua', 'native-country_ Outlying-US(Guam-USVI-etc)', 'native-country_ Peru', 'native-country_ Philippines', 'native-country_ Poland', 'native-country_ Portugal', 'native-country_ Puerto-Rico', 'native-country_ Scotland', 'native-country_ South', 'native-country_ Taiwan', 'native-country_ Thailand', 'native-country_ Trinadad&Tobago', 'native-country_ United-States', 'native-country_ Vietnam', 'native-country_ Yugoslavia']\n"
          ],
          "name": "stdout"
        }
      ]
    },
    {
      "metadata": {
        "colab_type": "text",
        "id": "bmXp6dm_Cx2G"
      },
      "cell_type": "markdown",
      "source": [
        "### Embaralhar e dividir os dados\n",
        "Agora todas as _variáveis de categoria_ foram convertidas em atributos numéricos e todos os atributos numéricos foram normalizados. Como sempre, nós agora dividiremos os dados entre conjuntos de treinamento e de teste. 80% dos dados serão utilizados para treinamento e 20% para teste.\n",
        "\n",
        "Execute o código da célula abaixo para realizar divisão."
      ]
    },
    {
      "metadata": {
        "colab_type": "code",
        "id": "wdQhMba2Cx2K",
        "outputId": "0cfcf40d-1c2b-4047-b4a9-7ad59ec5b3ae",
        "colab": {
          "base_uri": "https://localhost:8080/",
          "height": 51
        }
      },
      "cell_type": "code",
      "source": [
        "# Importar train_test_split\n",
        "from sklearn.model_selection import train_test_split\n",
        "\n",
        "# Dividir os 'atributos' e 'income' entre conjuntos de treinamento e de testes.\n",
        "X_train, X_test, y_train, y_test = train_test_split(features_final, \n",
        "                                                    income, \n",
        "                                                    test_size = 0.2, \n",
        "                                                    random_state = 0)\n",
        "\n",
        "# Show the results of the split\n",
        "print(\"Training set has {} samples.\".format(X_train.shape[0]))\n",
        "print(\"Testing set has {} samples.\".format(X_test.shape[0]))"
      ],
      "execution_count": 20,
      "outputs": [
        {
          "output_type": "stream",
          "text": [
            "Training set has 36177 samples.\n",
            "Testing set has 9045 samples.\n"
          ],
          "name": "stdout"
        }
      ]
    },
    {
      "metadata": {
        "colab_type": "text",
        "id": "CusqRLzNCx2h"
      },
      "cell_type": "markdown",
      "source": [
        "----\n",
        "## Avaliando a performance do modelo\n",
        "Nesta seção nós investigaremos quatro algoritmos diferentes e determinaremos qual deles é melhor para a modelagem dos dados. Três destes algoritmos serão algoritmos de aprendizado supervisionado de sua escolha e o quarto algoritmo é conhecido como *naive predictor*."
      ]
    },
    {
      "metadata": {
        "colab_type": "text",
        "id": "gGezDOLkCx2w"
      },
      "cell_type": "markdown",
      "source": [
        "### Métricas e o Naive predictor\n",
        "\n",
        "*CharityML*, equpada com sua pesquisa, sabe que os indivíduos que fazem mais do que \\$50,000 possuem maior probabilidade de doar para a sua campanha de caridade. Por conta disto, a *CharityML* está particularmente interessada em predizer com acurácia quais indivíduos possuem remuneração acima de \\$50,000. Parece uqe utilizar **acurácia (accuracy)** como uma métrica para avaliar a performance de um modelo é um parâmetro adequado. Além disso, identificar alguém que *não possui* remuneração acima de \\$50,000 como alguém que recebe acima deste valor seria ruim para a *CharityML*, uma vez que eles estão procurando por indivíduos que desejam doar. Com isso, a habilidade do modelo em predizer com preisão aqueles que possuem a remuneração acima dos \\$50,000 é *mais importante* do que a habilidade de realizar o **recall** destes indivíduos. Nós podemos utilizar a fórmula **F-beta score** como uma métrica que considera ambos: precision e recall.\n",
        "\n",
        "\n",
        "$$ F_{\\beta} = (1 + \\beta^2) \\cdot \\frac{precision \\cdot recall}{\\left( \\beta^2 \\cdot precision \\right) + recall} $$\n",
        "\n",
        "Em particular, quando $\\beta = 0.5$, maior ênfase é atribuída para a variável precision. Isso é chamado de **F$_{0.5}$ score** (ou F-score, simplificando).\n",
        "\n",
        "Analisando a distribuição de classes (aqueles que possuem remuneração até \\$50,000 e aqueles que possuem remuneração superior), fica claro que a maioria dos indivíduos não possui remuneração acima de \\$50,000. Isto pode ter grande impacto na **acurácia (accuracy)**, uma vez que nós poderíamos simplesmente dizer *\"Esta pessoa não possui remuneração acima de \\$50,000\"* e estar certos em boa parte das vezes, sem ao menos olhar os dados! Fazer este tipo de afirmação seria chamado de **naive**, uma vez que não consideramos nenhuma informação para balisar este argumento. É sempre importante considerar a *naive prediction* para seu conjunto de dados, para ajudar a estabelecer um benchmark para análise da performance dos modelos. Com isso, sabemos que utilizar a naive prediction não traria resultado algum: Se a predição apontasse que todas as pessoas possuem remuneração inferior à \\$50,000, a *CharityML* não identificaria ninguém como potencial doador. \n",
        "\n",
        "\n",
        "\n",
        "#### Nota: Revisando: accuracy, precision e recall\n",
        "\n",
        "** Accuracy ** mede com que frequência o classificador faz a predição correta. É a proporção entre o número de predições corretas e o número total de predições (o número de registros testados).\n",
        "\n",
        "** Precision ** informa qual a proporção de mensagens classificamos como spam eram realmente spam. Ou seja, é a proporção de verdadeiros positivos (mensagens classificadas como spam que eram realmente spam) sobre todos os positivos (todas as palavras classificadas como spam, independente se a classificação estava correta), em outras palavras, é a proporção\n",
        "\n",
        "`[Verdadeiros positivos/(Verdadeiros positivos + Falso positivos)]`\n",
        "\n",
        "** Recall(sensibilidade)** nos informa qual a proporção das mensagens que eram spam que foram corretamente classificadas como spam. É a proporção entre os verdadeiros positivos (classificados como spam, que realmente eram spam) sobre todas as palavras que realmente eram spam. Em outras palavras, é a proporção entre\n",
        "\n",
        "`[Verdadeiros positivos/(Verdadeiros positivos + Falso negativos)]`\n",
        "\n",
        "Para problemas de classificação distorcidos em suas distribuições, como no nosso caso, por exemplo, se tivéssemos 100 mensagems de texto e apenas 2 fossem spam e todas as outras não fossem, a \"accuracy\" por si só não seria uma métrica tão boa. Nós poderiamos classificar 90 mensagems como \"não-spam\" (incluindo as 2 que eram spam mas que teriam sido classificadas como não-spam e, por tanto, seriam falso negativas.) e 10 mensagems como spam (todas as 10 falso positivas) e ainda assim teriamos uma boa pontuação de accuracy. Para estess casos, precision e recall são muito úteis. Estas duas métricas podem ser combinadas para resgatar o F1 score, que é calculado através da média(harmônica) dos valores de precision e de recall. Este score pode variar entre 0 e 1, sendo 1 o melhor resultado possível para o F1 score (consideramos a média harmônica pois estamos lidando com proporções)."
      ]
    },
    {
      "metadata": {
        "colab_type": "text",
        "id": "uMyD8R8jCx4-"
      },
      "cell_type": "markdown",
      "source": [
        "### Questão 1 - Performance do Naive Predictor\n",
        "* Se escolhessemos um modelo que sempre prediz que um indivíduo possui remuneração acima de $50,000, qual seria a accuracy e o F-score considerando este conjunto de dados? Você deverá utilizar o código da célula abaixo e atribuir os seus resultados para as variáveis `'accuracy'` e `'fscore'` que serão usadas posteriormente.\n",
        "\n",
        "** Por favor, note ** que o propósito ao gerar um naive predictor é simplesmente exibir como um modelo sem nenhuma inteligência se comportaria. No mundo real, idealmente o seu modelo de base será o resultado de um modelo anterior ou poderia ser baseado em um paper no qual você se basearia para melhorar. Quando não houver qualquer benchmark de modelo, utilizar um naive predictor será melhor do que uma escolha aleatória.\n",
        "\n",
        "** DICA: ** \n",
        "\n",
        "* Quando temos um modelo que sempre prediz '1' (e.x o indivíduo possui remuneração superior à 50k) então nosso modelo não terá Verdadeiros Negativos ou Falso Negativos, pois nós não estaremos afirmando que qualquer dos valores é negativo (ou '0') durante a predição. Com isso, nossa accuracy neste caso se torna o mesmo valor da precision (Verdadeiros positivos/ (Verdadeiros positivos + Falso positivos)) pois cada predição que fizemos com o valor '1' que deveria ter o valor '0' se torna um falso positivo; nosso denominador neste caso é o número total de registros.\n",
        "* Nossa pontuação de Recall(Verdadeiros positivos/(Verdadeiros Positivos + Falsos negativos)) será 1 pois não teremos Falsos negativos."
      ]
    },
    {
      "metadata": {
        "colab_type": "code",
        "id": "SrK_E1QZGDQC",
        "outputId": "56025597-d715-4756-9579-229b325f2745",
        "colab": {
          "base_uri": "https://localhost:8080/",
          "height": 34
        }
      },
      "cell_type": "code",
      "source": [
        "TP = np.sum(income) # Contando pois este é o caso \"naive\". Note que 'income' são os dados 'income_raw' convertidos\n",
        "# para valores numéricos durante o passo de pré-processamento de dados.\n",
        "FP = income.count() - TP # Específico para o caso naive\n",
        "\n",
        "TN = 0 # Sem predições negativas para o caso naive\n",
        "FN = 0 # Sem predições negativas para o caso naive\n",
        "\n",
        "# TODO: Calcular accuracy, precision e recall\n",
        "accuracy = float(TP)/(TP+FP)\n",
        "recall = float(TP)/(TP+FN)\n",
        "precision = accuracy\n",
        "\n",
        "# TODO: Calcular o F-score utilizando a fórmula acima para o beta = 0.5 e os valores corretos de precision e recall.\n",
        "fscore = (1+0.5**2)*(precision*recall)/(0.5**2*precision+recall)\n",
        "\n",
        "# Exibir os resultados \n",
        "print(\"Naive Predictor: [Accuracy score: {:.4f}, F-score: {:.4f}]\".format(accuracy, fscore))"
      ],
      "execution_count": 21,
      "outputs": [
        {
          "output_type": "stream",
          "text": [
            "Naive Predictor: [Accuracy score: 0.2478, F-score: 0.2917]\n"
          ],
          "name": "stdout"
        }
      ]
    },
    {
      "metadata": {
        "colab_type": "text",
        "id": "Qsi25R5CCx5C"
      },
      "cell_type": "markdown",
      "source": [
        "###  Modelos de Aprendizado Supervisionado\n",
        "**Estes são alguns dos modelos de aprendizado supervisionado disponíveis em** [`scikit-learn`](http://scikit-learn.org/stable/supervised_learning.html)\n",
        "- Gaussian Naive Bayes (GaussianNB)\n",
        "- Decision Trees (Árvores de decisão)\n",
        "- Ensemble Methods (Bagging, AdaBoost, Random Forest, Gradient Boosting)\n",
        "- K-Nearest Neighbors (KNeighbors)\n",
        "- Stochastic Gradient Descent Classifier (SGDC)\n",
        "- Support Vector Machines (SVM)\n",
        "- Logistic Regression"
      ]
    },
    {
      "metadata": {
        "colab_type": "text",
        "id": "GHJc0VaCCx5F"
      },
      "cell_type": "markdown",
      "source": [
        "### Questão 2 - Aplicação do Modelo\n",
        "Liste três dos modelos de aprendizado supervisionado acima que são apropriados para este problema que você irá testar nos dados do censo. Para cada modelo escolhido\n",
        "\n",
        "- Descreva uma situação do mundo real onde este modelo pode ser utilizado. \n",
        "- Quais são as vantagems da utilização deste modelo; quando ele performa bem?\n",
        "- Quais são as fraquezas do modelo; quando ele performa mal?\n",
        "- O que torna este modelo um bom candidato para o problema, considerando o que você sabe sobre o conjunto de dados?\n",
        "\n",
        "** DICA: **\n",
        "\n",
        "Estruture sua resposta no mesmo formato acima^, com 4 partes para cada um dos modelos que você escolher. Por favor, inclua referências em cada uma das respostas."
      ]
    },
    {
      "metadata": {
        "colab_type": "text",
        "id": "IqSq4cOECx5L"
      },
      "cell_type": "markdown",
      "source": [
        "**Resposta: **\n",
        "\n",
        "#### Gaussian Naive Bayes \n",
        "\n",
        "- O Gaussian Naive Bayes  tem sido amplamente utilizado na indústria para fins de classificação de texto. Em particular, para classificar e filtrar e-mails de spam com base na probabilidade de determinadas palavras aparecerem em um e-mail de spam em comparação a um e-mail não-spam.[https://en.wikipedia.org/wiki/Naive_Bayes_spam_filtering]\n",
        "\n",
        "\n",
        "- Pontos fortes - A força deste modelo reside na sua simplicidade herdada da suposição de que todos os recursos necessários para classificar corretamente os dados são \"independentes\" uns dos outros.\n",
        "\n",
        "\n",
        "- Pontos fracos - A fraqueza de Naive Bayes é que, se encontrar uma combinação inédita de característica (na qual nunca foi treinada), estimará provavelmente o probabilidade como 0, o que pode fazer com que ela classifique incorretamente o rótulo.\n",
        "\n",
        "- Candidato - Esse modelo em particular pode ser uma boa abordagem para resolver o problema, pois temos um grande conjunto de dados com poucos recursos.\n",
        "\n",
        "\n",
        "\n",
        "#### Support Vector Machines (SVC)\n",
        "\n",
        "- As máquinas vetoriais de suporte (SVC) têm sido usadas com sucesso na indústria para identificação manual de dígitos a um nível próximo ao erro de classificação humana.[https://pt.wikipedia.org/wiki/M%C3%A1quina_de_vetores_de_suporte] \n",
        "\n",
        "\n",
        "- Pontos fortes - Este modelo é eficaz em espaços dimensionais elevados e mais adequado para problemas com domínios complexos, onde há margens de separação claras nos dados. Para classificar corretamente os dados, esse modelo também é capaz de definir planos complexos de separação de ordem superior por meio de kernels personalizados. \n",
        "\n",
        "\n",
        "- Pontos fracos - Um dos pontos fracos desse modelo é que o treinamento pode consumir muito tempo em grandes conjuntos de dados. Além disso, os SVCs podem ter um desempenho ruim e excessivo quando os dados são muito ruidosos ou se sobrepõem demais. \n",
        "\n",
        "\n",
        "- Candidato - Embora o treinamento em nosso grande conjunto de dados atual possa se tornar um problema, o modelo ainda pode ser um bom candidato, pois parece haver alguns recursos nos dados que podem definir com mais clareza o limite do nível de renda.\n",
        "\n",
        "\n",
        "#### Ensemble Methods (AdaBoost)\n",
        "\n",
        "- Adaboost pode ser usado para detecção de face.[Face Detector](https://web.eecs.umich.edu/~jjcorso/t/598F14/files/lecture_1117_boosting.pdf)\n",
        "\n",
        "\n",
        "- Pontos fortes  - Adaboost é um poderoso algoritmo de classificação que tende a ser muito adaptativo. Pode capturar limites de decisão muito complexos. Outra vantagem, não requer ajustar muitos parâmetros.\n",
        "\n",
        "\n",
        "- Pontos fracos - No entanto, o algoritmo tende a ser sensível a dados ruidosos e outliers. Também pode ser lento para treinar.\n",
        "\n",
        "\n",
        "- Cadidato - Podemos aplicar este modelo porque é um conjunto de dados médio. O modelo pode ser lento para treinar, no entanto, isso não deve importar, porque provavelmente queremos executar o zmodelo periodicamente e não em tempo real.\n",
        "\n"
      ]
    },
    {
      "metadata": {
        "colab_type": "text",
        "id": "R_v6PTfXCx5P"
      },
      "cell_type": "markdown",
      "source": [
        "### Implementação - Criando um Pipeline de Treinamento e Predição\n",
        "Para avaliar adequadamente a performance de cada um dos modelos que você escolheu é importante que você crie um pipeline de treinamento e predição que te permite de maneira rápida e eficiente treinar os modelos utilizando vários tamanhos de conjuntos de dados para treinamento, além de performar predições nos dados de teste. Sua implementação aqui será utilizada na próxima seção. No bloco de código abaixo, você precisará implementar o seguinte:\n",
        " - Importar `fbeta_score` e `accuracy_score` de [`sklearn.metrics`](http://scikit-learn.org/stable/modules/classes.html#sklearn-metrics-metrics).\n",
        " - Adapte o algoritmo para os dados de treinamento e registre o tempo de treinamento. \n",
        " - Realize predições nos dados de teste `X_test`, e também nos 300 primeiros pontos de treinamento `X_train[:300]`.\n",
        "   - Registre o tempo total de predição. \n",
        " - Calcule a acurácia tanto para o conjundo de dados de treino quanto para o conjunto de testes.\n",
        " - Calcule o F-score para os dois conjuntos de dados: treino e testes. \n",
        "   - Garanta que você configurou o parâmetro `beta`! "
      ]
    },
    {
      "metadata": {
        "colab_type": "code",
        "id": "vyliGqNrCx5S",
        "colab": {}
      },
      "cell_type": "code",
      "source": [
        "# TODO: Import two metrics from sklearn - fbeta_score and accuracy_score\n",
        "from sklearn.metrics import fbeta_score\n",
        "from sklearn.metrics import accuracy_score\n",
        "\n",
        "def train_predict(learner, sample_size, X_train, y_train, X_test, y_test): \n",
        "    '''\n",
        "    inputs:\n",
        "       - learner: the learning algorithm to be trained and predicted on\n",
        "       - sample_size: the size of samples (number) to be drawn from training set\n",
        "       - X_train: features training set\n",
        "       - y_train: income training set\n",
        "       - X_test: features testing set\n",
        "       - y_test: income testing set\n",
        "    '''\n",
        "    \n",
        "    results = {}\n",
        "    \n",
        "    # TODO: Fit the learner to the training data using slicing with 'sample_size' using .fit(training_features[:], training_labels[:])\n",
        "    start = time() # Get start time\n",
        "    learner.fit(X_train[:sample_size],y_train[:sample_size])\n",
        "    end = time() # Get end time\n",
        "    \n",
        "    # TODO: Calculate the training time\n",
        "    results['train_time'] = end-start\n",
        "        \n",
        "    # TODO: Get the predictions on the test set(X_test),\n",
        "    #       then get predictions on the first 300 training samples(X_train) using .predict()\n",
        "    start = time() # Get start time\n",
        "    predictions_test = learner.predict(X_test)\n",
        "    predictions_train = learner.predict(X_train[:300])\n",
        "    end = time() # Get end time\n",
        "    \n",
        "    # TODO: Calculate the total prediction time\n",
        "    results['pred_time'] = end-start\n",
        "            \n",
        "    # TODO: Compute accuracy on the first 300 training samples which is y_train[:300]\n",
        "    results['acc_train'] = accuracy_score(y_train[:300],predictions_train)\n",
        "        \n",
        "    # TODO: Compute accuracy on test set using accuracy_score()\n",
        "    results['acc_test'] = accuracy_score(y_test,predictions_test)\n",
        "    \n",
        "    # TODO: Compute F-score on the the first 300 training samples using fbeta_score()\n",
        "    results['f_train'] = fbeta_score(y_train[:300],predictions_train,beta=0.5)\n",
        "        \n",
        "    # TODO: Compute F-score on the test set which is y_test\n",
        "    results['f_test'] = fbeta_score(y_test,predictions_test,beta=0.5)\n",
        "       \n",
        "    # Success\n",
        "    print(\"{} trained on {} samples.\".format(learner.__class__.__name__, sample_size))\n",
        "        \n",
        "    # Return the results\n",
        "    return results"
      ],
      "execution_count": 0,
      "outputs": []
    },
    {
      "metadata": {
        "colab_type": "text",
        "id": "eliYyguICx5o"
      },
      "cell_type": "markdown",
      "source": [
        "### Implementação: Validação inicial do modelo\n",
        "No código da célular, você precisará implementar o seguinte:\n",
        "- Importar os três modelos de aprendizado supervisionado que você escolheu na seção anterior \n",
        "- Inicializar os três modelos e armazená-los em `'clf_A'`, `'clf_B'`, e `'clf_C'`. \n",
        "  - Utilize um `'random_state'` para cada modelo que você utilizar, caso seja fornecido.\n",
        "  - **Nota:** Utilize as configurações padrão para cada modelo - você otimizará um modelo específico em uma seção posterior\n",
        "- Calcule o número de registros equivalentes à 1%, 10%, e 100% dos dados de treinamento.\n",
        "  - Armazene estes valores em `'samples_1'`, `'samples_10'`, e `'samples_100'` respectivamente.\n",
        "\n",
        "**Nota:** Dependendo do algoritmo de sua escolha, a implementação abaixo pode demorar algum tempo para executar!"
      ]
    },
    {
      "metadata": {
        "colab_type": "code",
        "id": "1-5h4DuzCx5q",
        "outputId": "e0043f5a-2c65-40a8-d9fa-331b56d0c52e",
        "colab": {
          "base_uri": "https://localhost:8080/",
          "height": 884
        }
      },
      "cell_type": "code",
      "source": [
        "# TODO: Importe os três modelos de aprendizado supervisionado da sklearn\n",
        "from sklearn.svm import SVC\n",
        "from sklearn.naive_bayes import GaussianNB\n",
        "from sklearn.ensemble import AdaBoostClassifier\n",
        "\n",
        "# TODO: Inicialize os três modelos\n",
        "clf_A = SVC(random_state=42)\n",
        "clf_B = GaussianNB()\n",
        "clf_C = AdaBoostClassifier(random_state=42)\n",
        "\n",
        "# TODO: Calcule o número de amostras para 1%, 10%, e 100% dos dados de treinamento\n",
        "# HINT: samples_100 é todo o conjunto de treinamento e.x.: len(y_train)\n",
        "# HINT: samples_10 é 10% de samples_100\n",
        "# HINT: samples_1 é 1% de samples_100\n",
        "samples_100 = len(X_train)\n",
        "samples_10 = int(samples_100 * 0.1)\n",
        "samples_1 = int(len(X_train)/100)\n",
        "\n",
        "# Colete os resultados dos algoritmos de aprendizado\n",
        "results = {}\n",
        "for clf in [clf_A, clf_B, clf_C]:\n",
        "    clf_name = clf.__class__.__name__\n",
        "    results[clf_name] = {}\n",
        "    for i, samples in enumerate([samples_1, samples_10, samples_100]):\n",
        "        results[clf_name][i] = \\\n",
        "        train_predict(clf, samples, X_train, y_train, X_test, y_test)\n",
        "\n",
        "# Run metrics visualization for the three supervised learning models chosen\n",
        "vs.evaluate(results, accuracy, fscore)"
      ],
      "execution_count": 23,
      "outputs": [
        {
          "output_type": "stream",
          "text": [
            "/usr/local/lib/python3.6/dist-packages/sklearn/svm/base.py:196: FutureWarning: The default value of gamma will change from 'auto' to 'scale' in version 0.22 to account better for unscaled features. Set gamma explicitly to 'auto' or 'scale' to avoid this warning.\n",
            "  \"avoid this warning.\", FutureWarning)\n",
            "/usr/local/lib/python3.6/dist-packages/sklearn/metrics/classification.py:1143: UndefinedMetricWarning: F-score is ill-defined and being set to 0.0 due to no predicted samples.\n",
            "  'precision', 'predicted', average, warn_for)\n",
            "/usr/local/lib/python3.6/dist-packages/sklearn/svm/base.py:196: FutureWarning: The default value of gamma will change from 'auto' to 'scale' in version 0.22 to account better for unscaled features. Set gamma explicitly to 'auto' or 'scale' to avoid this warning.\n",
            "  \"avoid this warning.\", FutureWarning)\n"
          ],
          "name": "stderr"
        },
        {
          "output_type": "stream",
          "text": [
            "SVC trained on 361 samples.\n",
            "SVC trained on 3617 samples.\n"
          ],
          "name": "stdout"
        },
        {
          "output_type": "stream",
          "text": [
            "/usr/local/lib/python3.6/dist-packages/sklearn/svm/base.py:196: FutureWarning: The default value of gamma will change from 'auto' to 'scale' in version 0.22 to account better for unscaled features. Set gamma explicitly to 'auto' or 'scale' to avoid this warning.\n",
            "  \"avoid this warning.\", FutureWarning)\n"
          ],
          "name": "stderr"
        },
        {
          "output_type": "stream",
          "text": [
            "SVC trained on 36177 samples.\n",
            "GaussianNB trained on 361 samples.\n",
            "GaussianNB trained on 3617 samples.\n",
            "GaussianNB trained on 36177 samples.\n",
            "AdaBoostClassifier trained on 361 samples.\n",
            "AdaBoostClassifier trained on 3617 samples.\n",
            "AdaBoostClassifier trained on 36177 samples.\n"
          ],
          "name": "stdout"
        },
        {
          "output_type": "display_data",
          "data": {
            "image/png": "[encoded data removed]",
            "text/plain": [
              "<matplotlib.figure.Figure at 0x7fe6f06abdd8>"
            ]
          },
          "metadata": {
            "tags": []
          }
        }
      ]
    },
    {
      "metadata": {
        "colab_type": "text",
        "id": "D0EAi7-nCx6L"
      },
      "cell_type": "markdown",
      "source": [
        "----\n",
        "## Melhorando os resultados\n",
        "Nesta seção final, você irá escolher o melhor entre os três modelos de aprendizado supervisionado para utilizar nos dados dos estudantes. Você irá então realizar uma busca grid para otimização em todo o conjunto de dados de treino (`X_train` e `y_train`) fazendo o tuning de pelo menos um parâmetro para melhorar o F-score anterior do modelo."
      ]
    },
    {
      "metadata": {
        "colab_type": "text",
        "id": "si3Gg93fCx6W"
      },
      "cell_type": "markdown",
      "source": [
        "### Questão 3 - Escolhendo o melhor modelo\n",
        "\n",
        "* Baseado na validação anterior, em um ou dois parágrafos explique para a *CharityML* qual dos três modelos você acredita ser o mais apropriado para a tarefa de identificar indivíduos com remuneração anual superior à \\$50,000.  \n",
        "\n",
        "** DICA: ** \n",
        "Analise o gráfico do canto inferior esquerdo da célula acima(a visualização criada através do comando `vs.evaluate(results, accuracy, fscore)`) e verifique o F score para o conjunto de testes quando 100% do conjunto de treino é utilizado. Qual modelo possui o maior score? Sua resposta deve abranger os seguintes pontos:\n",
        "* métricas - F score no conjunto de testes quando 100% dos dados de treino são utilizados, \n",
        "* tempo de predição/treinamento \n",
        "* a adequação do algoritmo para este cojunto de dados."
      ]
    },
    {
      "metadata": {
        "colab_type": "text",
        "id": "w9RzvyN2Cx6Y"
      },
      "cell_type": "markdown",
      "source": [
        "**Resposta: **\n",
        "\n",
        "Acredito que o modelo mais apropriado seria ensemble Adaboost. Como pode ser observado nos gráficos, em comparação com o SVC, os algoritmos Adaboost e GaussianNB são capazes de treinar em todo o conjunto de dados e executar rapidamente as previsões. No entanto, em todos os tamanhos de conjunto de treinamento, as precisões de treinamento e teste alcançadas com o Adaboost são significativamente maiores do que aquelas obtidas usando o algoritmo GuassianNB mais simples e em termos de score Fbeta, o Adaboost supera em pequena margem o SVC em todos os tamanhos de conjunto de treinamento e supera significativamente o GaussianNB."
      ]
    },
    {
      "metadata": {
        "colab_type": "text",
        "id": "X3IxJ2wOCx6a"
      },
      "cell_type": "markdown",
      "source": [
        "### Questão 4 - Descrevendo o modelo nos termos de Layman\n",
        " \n",
        "* Em um ou dois parágrafos, explique para a *CharityML*, nos termos de layman, como o modelo final escolhido deveria funcionar. Garanta que você está descrevendo as principais vantagens do modelo, tais como o modo de treinar o modelo e como o modelo realiza a predição. Evite a utilização de jargões matemáticos avançados, como por exemplo a descrição de equações. \n",
        "\n",
        "** DICA: **\n",
        "\n",
        "Quando estiver explicando seu modelo, cite as fontes externas utilizadas, caso utilize alguma."
      ]
    },
    {
      "metadata": {
        "colab_type": "text",
        "id": "OnjWQNg5Cx6b"
      },
      "cell_type": "markdown",
      "source": [
        "**Resposta: ** \n",
        "\n",
        "Adaboost é um algoritmo tipo de reforço. Esse método funciona combinando várias hipóteses individuais de aprendizagem \"fracas\" para criar um modelo forte. Cada hipótese fraca é melhor usada para classificar os dados do que o acaso aleatório. No entanto, é a combinação de todas essas hipóteses independentes de aprendizagem fraca, o que torna o modelo mais capaz de prever com precisão dados não vistos do que cada uma das hipóteses individuais.\n",
        "\n",
        "Este algoritmo é treinado iterativamente. Durante cada iteração de treinamento, o modelo tenta classificar corretamente os dados de treinamento. Com base em quão bem ele foi executado durante a iteração, o algoritmo atribui pesos maiores às observações que não foram possíveis classificar corretamente. Na próxima iteração de treinamento, o algoritmo se concentra naquelas observações mais complexas, inicialmente classificadas como não classificadas, e tenta classificá-las corretamente. Novamente, com base nos resultados dessa iteração de treinamento, Adaboost atribui pesos maiores às observações que foram classificadas incorretamente. Esse processo é repetido por várias iterações definidas pelo usuário, na tentativa de encontrar o conjunto de hipóteses ponderadas que combinadas terão melhor desempenho em dados não vistos. Depois que cada classificador é treinado, o peso do classificador é calculado com base em sua precisão. Classificadores mais precisos recebem mais peso. Um classificador com 50% de precisão recebe um peso de zero e um classificador com menos de 50% de precisão (um conceito engraçado) recebe um peso negativo.\n",
        "\n",
        "Um exemplo seria o detector de face Viola-Jones que usa uma “cascata de rejeição” consistindo em várias camadas de classificadores. Se em qualquer camada a janela de detecção não for reconhecida como uma face, ela será rejeitada e passaremos para a próxima janela. O primeiro classificador na cascata é projetado para descartar tantas janelas negativas quanto possível com o mínimo custo computacional."
      ]
    },
    {
      "metadata": {
        "colab_type": "text",
        "id": "AM4FNL72Cx6d"
      },
      "cell_type": "markdown",
      "source": [
        "### Implementação: Tuning do modelo\n",
        "Refine o modelo escolhido. Utilize uma busca grid (`GridSearchCV`) com pleo menos um parâmetro importante refinado com pelo menos 3 valores diferentes. Você precisará utilizar todo o conjunto de treinamento para isso. Na célula de código abaixo, você precisará implementar o seguinte:\n",
        "- Importar [`sklearn.grid_search.GridSearchCV`](http://scikit-learn.org/0.17/modules/generated/sklearn.grid_search.GridSearchCV.html) e [`sklearn.metrics.make_scorer`](http://scikit-learn.org/stable/modules/generated/sklearn.metrics.make_scorer.html).\n",
        "- Inicializar o classificador escolhido por você e armazená-lo em `clf`.\n",
        " - Configurar um `random_state` se houver um disponível para o mesmo estado que você configurou anteriormente.\n",
        "- Criar um dicionário dos parâmetros que você quer otimizar para o modelo escolhido.\n",
        " - Exemplo: `parâmetro = {'parâmetro' : [lista de valores]}`.\n",
        " - **Nota:** Evite otimizar o parâmetro `max_features` se este parâmetro estiver disponível! \n",
        "- Utilize `make_scorer` para criar um objeto de pontuação `fbeta_score` (com $\\beta = 0.5$).\n",
        "- Realize a busca gride no classificador `clf` utilizando o `'scorer'` e armazene-o na variável `grid_obj`.   \n",
        "- Adeque o objeto da busca grid aos dados de treino (`X_train`, `y_train`) e armazene em `grid_fit`.\n",
        "\n",
        "**Nota:** Dependendo do algoritmo escolhido e da lista de parâmetros, a implementação a seguir pode levar algum tempo para executar! "
      ]
    },
    {
      "metadata": {
        "colab_type": "code",
        "id": "fZkLMBvxCx6f",
        "outputId": "e7e290d2-86da-4a8d-d474-d2a23c37fd08",
        "colab": {
          "base_uri": "https://localhost:8080/",
          "height": 2060
        }
      },
      "cell_type": "code",
      "source": [
        "# TODO: Importar 'GridSearchCV', 'make_scorer', e qualquer biblioteca necessária\n",
        "from sklearn.metrics import make_scorer, r2_score, fbeta_score\n",
        "from sklearn.model_selection import GridSearchCV\n",
        "\n",
        "# TODO: Inicializar o classificador\n",
        "clf = AdaBoostClassifier(random_state=42)\n",
        "\n",
        "# TODO: Criar a lista de parâmetros que você quer otimizar, utilizando um dicionário, caso necessário.\n",
        "# HINT: parameters = {'parameter_1': [value1, value2], 'parameter_2': [value1, value2]}\n",
        "parameters = {'n_estimators':[50,100,250,300,500],'learning_rate':[1,0.1,0.01,0.001,0.0001]}\n",
        "\n",
        "# TODO: Criar um objeto fbeta_score utilizando make_scorer()\n",
        "scorer = make_scorer(fbeta_score, beta=0.5)\n",
        "\n",
        "# TODO: Realizar uma busca grid no classificador utilizando o 'scorer' como o método de score no GridSearchCV() \n",
        "grid_obj = GridSearchCV(clf, param_grid = parameters,scoring=scorer)\n",
        "\n",
        "# TODO: Adequar o objeto da busca grid como os dados para treinamento e encontrar os parâmetros ótimos utilizando fit() \n",
        "grid_fit = grid_obj.fit(X_train, y_train)\n",
        "\n",
        "# Recuperar o estimador\n",
        "best_clf = grid_fit.best_estimator_\n",
        "\n",
        "# Realizar predições utilizando o modelo não otimizado e modelar\n",
        "predictions = (clf.fit(X_train, y_train)).predict(X_test)\n",
        "best_predictions = best_clf.predict(X_test)\n",
        "\n",
        "# Reportar os scores de antes e de depois\n",
        "print(\"Unoptimized model\\n------\")\n",
        "print(\"Accuracy score on testing data: {:.4f}\".format(accuracy_score(y_test, predictions)))\n",
        "print(\"F-score on testing data: {:.4f}\".format(fbeta_score(y_test, predictions, beta = 0.5)))\n",
        "print(\"\\nOptimized Model\\n------\")\n",
        "print(\"Final accuracy score on the testing data: {:.4f}\".format(accuracy_score(y_test, best_predictions)))\n",
        "print(\"Final F-score on the testing data: {:.4f}\".format(fbeta_score(y_test, best_predictions, beta = 0.5)))"
      ],
      "execution_count": 27,
      "outputs": [
        {
          "output_type": "stream",
          "text": [
            "/usr/local/lib/python3.6/dist-packages/sklearn/model_selection/_split.py:2053: FutureWarning: You should specify a value for 'cv' instead of relying on the default value. The default value will change from 3 to 5 in version 0.22.\n",
            "  warnings.warn(CV_WARNING, FutureWarning)\n",
            "/usr/local/lib/python3.6/dist-packages/sklearn/metrics/classification.py:1143: UndefinedMetricWarning: F-score is ill-defined and being set to 0.0 due to no predicted samples.\n",
            "  'precision', 'predicted', average, warn_for)\n",
            "/usr/local/lib/python3.6/dist-packages/sklearn/metrics/classification.py:1143: UndefinedMetricWarning: F-score is ill-defined and being set to 0.0 due to no predicted samples.\n",
            "  'precision', 'predicted', average, warn_for)\n",
            "/usr/local/lib/python3.6/dist-packages/sklearn/metrics/classification.py:1143: UndefinedMetricWarning: F-score is ill-defined and being set to 0.0 due to no predicted samples.\n",
            "  'precision', 'predicted', average, warn_for)\n",
            "/usr/local/lib/python3.6/dist-packages/sklearn/metrics/classification.py:1143: UndefinedMetricWarning: F-score is ill-defined and being set to 0.0 due to no predicted samples.\n",
            "  'precision', 'predicted', average, warn_for)\n",
            "/usr/local/lib/python3.6/dist-packages/sklearn/metrics/classification.py:1143: UndefinedMetricWarning: F-score is ill-defined and being set to 0.0 due to no predicted samples.\n",
            "  'precision', 'predicted', average, warn_for)\n",
            "/usr/local/lib/python3.6/dist-packages/sklearn/metrics/classification.py:1143: UndefinedMetricWarning: F-score is ill-defined and being set to 0.0 due to no predicted samples.\n",
            "  'precision', 'predicted', average, warn_for)\n",
            "/usr/local/lib/python3.6/dist-packages/sklearn/metrics/classification.py:1143: UndefinedMetricWarning: F-score is ill-defined and being set to 0.0 due to no predicted samples.\n",
            "  'precision', 'predicted', average, warn_for)\n",
            "/usr/local/lib/python3.6/dist-packages/sklearn/metrics/classification.py:1143: UndefinedMetricWarning: F-score is ill-defined and being set to 0.0 due to no predicted samples.\n",
            "  'precision', 'predicted', average, warn_for)\n",
            "/usr/local/lib/python3.6/dist-packages/sklearn/metrics/classification.py:1143: UndefinedMetricWarning: F-score is ill-defined and being set to 0.0 due to no predicted samples.\n",
            "  'precision', 'predicted', average, warn_for)\n",
            "/usr/local/lib/python3.6/dist-packages/sklearn/metrics/classification.py:1143: UndefinedMetricWarning: F-score is ill-defined and being set to 0.0 due to no predicted samples.\n",
            "  'precision', 'predicted', average, warn_for)\n",
            "/usr/local/lib/python3.6/dist-packages/sklearn/metrics/classification.py:1143: UndefinedMetricWarning: F-score is ill-defined and being set to 0.0 due to no predicted samples.\n",
            "  'precision', 'predicted', average, warn_for)\n",
            "/usr/local/lib/python3.6/dist-packages/sklearn/metrics/classification.py:1143: UndefinedMetricWarning: F-score is ill-defined and being set to 0.0 due to no predicted samples.\n",
            "  'precision', 'predicted', average, warn_for)\n",
            "/usr/local/lib/python3.6/dist-packages/sklearn/metrics/classification.py:1143: UndefinedMetricWarning: F-score is ill-defined and being set to 0.0 due to no predicted samples.\n",
            "  'precision', 'predicted', average, warn_for)\n",
            "/usr/local/lib/python3.6/dist-packages/sklearn/metrics/classification.py:1143: UndefinedMetricWarning: F-score is ill-defined and being set to 0.0 due to no predicted samples.\n",
            "  'precision', 'predicted', average, warn_for)\n",
            "/usr/local/lib/python3.6/dist-packages/sklearn/metrics/classification.py:1143: UndefinedMetricWarning: F-score is ill-defined and being set to 0.0 due to no predicted samples.\n",
            "  'precision', 'predicted', average, warn_for)\n",
            "/usr/local/lib/python3.6/dist-packages/sklearn/metrics/classification.py:1143: UndefinedMetricWarning: F-score is ill-defined and being set to 0.0 due to no predicted samples.\n",
            "  'precision', 'predicted', average, warn_for)\n",
            "/usr/local/lib/python3.6/dist-packages/sklearn/metrics/classification.py:1143: UndefinedMetricWarning: F-score is ill-defined and being set to 0.0 due to no predicted samples.\n",
            "  'precision', 'predicted', average, warn_for)\n",
            "/usr/local/lib/python3.6/dist-packages/sklearn/metrics/classification.py:1143: UndefinedMetricWarning: F-score is ill-defined and being set to 0.0 due to no predicted samples.\n",
            "  'precision', 'predicted', average, warn_for)\n",
            "/usr/local/lib/python3.6/dist-packages/sklearn/metrics/classification.py:1143: UndefinedMetricWarning: F-score is ill-defined and being set to 0.0 due to no predicted samples.\n",
            "  'precision', 'predicted', average, warn_for)\n",
            "/usr/local/lib/python3.6/dist-packages/sklearn/metrics/classification.py:1143: UndefinedMetricWarning: F-score is ill-defined and being set to 0.0 due to no predicted samples.\n",
            "  'precision', 'predicted', average, warn_for)\n",
            "/usr/local/lib/python3.6/dist-packages/sklearn/metrics/classification.py:1143: UndefinedMetricWarning: F-score is ill-defined and being set to 0.0 due to no predicted samples.\n",
            "  'precision', 'predicted', average, warn_for)\n",
            "/usr/local/lib/python3.6/dist-packages/sklearn/metrics/classification.py:1143: UndefinedMetricWarning: F-score is ill-defined and being set to 0.0 due to no predicted samples.\n",
            "  'precision', 'predicted', average, warn_for)\n",
            "/usr/local/lib/python3.6/dist-packages/sklearn/metrics/classification.py:1143: UndefinedMetricWarning: F-score is ill-defined and being set to 0.0 due to no predicted samples.\n",
            "  'precision', 'predicted', average, warn_for)\n",
            "/usr/local/lib/python3.6/dist-packages/sklearn/metrics/classification.py:1143: UndefinedMetricWarning: F-score is ill-defined and being set to 0.0 due to no predicted samples.\n",
            "  'precision', 'predicted', average, warn_for)\n",
            "/usr/local/lib/python3.6/dist-packages/sklearn/metrics/classification.py:1143: UndefinedMetricWarning: F-score is ill-defined and being set to 0.0 due to no predicted samples.\n",
            "  'precision', 'predicted', average, warn_for)\n",
            "/usr/local/lib/python3.6/dist-packages/sklearn/metrics/classification.py:1143: UndefinedMetricWarning: F-score is ill-defined and being set to 0.0 due to no predicted samples.\n",
            "  'precision', 'predicted', average, warn_for)\n",
            "/usr/local/lib/python3.6/dist-packages/sklearn/metrics/classification.py:1143: UndefinedMetricWarning: F-score is ill-defined and being set to 0.0 due to no predicted samples.\n",
            "  'precision', 'predicted', average, warn_for)\n",
            "/usr/local/lib/python3.6/dist-packages/sklearn/metrics/classification.py:1143: UndefinedMetricWarning: F-score is ill-defined and being set to 0.0 due to no predicted samples.\n",
            "  'precision', 'predicted', average, warn_for)\n",
            "/usr/local/lib/python3.6/dist-packages/sklearn/metrics/classification.py:1143: UndefinedMetricWarning: F-score is ill-defined and being set to 0.0 due to no predicted samples.\n",
            "  'precision', 'predicted', average, warn_for)\n",
            "/usr/local/lib/python3.6/dist-packages/sklearn/metrics/classification.py:1143: UndefinedMetricWarning: F-score is ill-defined and being set to 0.0 due to no predicted samples.\n",
            "  'precision', 'predicted', average, warn_for)\n",
            "/usr/local/lib/python3.6/dist-packages/sklearn/metrics/classification.py:1143: UndefinedMetricWarning: F-score is ill-defined and being set to 0.0 due to no predicted samples.\n",
            "  'precision', 'predicted', average, warn_for)\n",
            "/usr/local/lib/python3.6/dist-packages/sklearn/metrics/classification.py:1143: UndefinedMetricWarning: F-score is ill-defined and being set to 0.0 due to no predicted samples.\n",
            "  'precision', 'predicted', average, warn_for)\n",
            "/usr/local/lib/python3.6/dist-packages/sklearn/metrics/classification.py:1143: UndefinedMetricWarning: F-score is ill-defined and being set to 0.0 due to no predicted samples.\n",
            "  'precision', 'predicted', average, warn_for)\n",
            "/usr/local/lib/python3.6/dist-packages/sklearn/metrics/classification.py:1143: UndefinedMetricWarning: F-score is ill-defined and being set to 0.0 due to no predicted samples.\n",
            "  'precision', 'predicted', average, warn_for)\n",
            "/usr/local/lib/python3.6/dist-packages/sklearn/metrics/classification.py:1143: UndefinedMetricWarning: F-score is ill-defined and being set to 0.0 due to no predicted samples.\n",
            "  'precision', 'predicted', average, warn_for)\n",
            "/usr/local/lib/python3.6/dist-packages/sklearn/metrics/classification.py:1143: UndefinedMetricWarning: F-score is ill-defined and being set to 0.0 due to no predicted samples.\n",
            "  'precision', 'predicted', average, warn_for)\n",
            "/usr/local/lib/python3.6/dist-packages/sklearn/metrics/classification.py:1143: UndefinedMetricWarning: F-score is ill-defined and being set to 0.0 due to no predicted samples.\n",
            "  'precision', 'predicted', average, warn_for)\n",
            "/usr/local/lib/python3.6/dist-packages/sklearn/metrics/classification.py:1143: UndefinedMetricWarning: F-score is ill-defined and being set to 0.0 due to no predicted samples.\n",
            "  'precision', 'predicted', average, warn_for)\n",
            "/usr/local/lib/python3.6/dist-packages/sklearn/metrics/classification.py:1143: UndefinedMetricWarning: F-score is ill-defined and being set to 0.0 due to no predicted samples.\n",
            "  'precision', 'predicted', average, warn_for)\n",
            "/usr/local/lib/python3.6/dist-packages/sklearn/metrics/classification.py:1143: UndefinedMetricWarning: F-score is ill-defined and being set to 0.0 due to no predicted samples.\n",
            "  'precision', 'predicted', average, warn_for)\n",
            "/usr/local/lib/python3.6/dist-packages/sklearn/metrics/classification.py:1143: UndefinedMetricWarning: F-score is ill-defined and being set to 0.0 due to no predicted samples.\n",
            "  'precision', 'predicted', average, warn_for)\n",
            "/usr/local/lib/python3.6/dist-packages/sklearn/metrics/classification.py:1143: UndefinedMetricWarning: F-score is ill-defined and being set to 0.0 due to no predicted samples.\n",
            "  'precision', 'predicted', average, warn_for)\n",
            "/usr/local/lib/python3.6/dist-packages/sklearn/metrics/classification.py:1143: UndefinedMetricWarning: F-score is ill-defined and being set to 0.0 due to no predicted samples.\n",
            "  'precision', 'predicted', average, warn_for)\n",
            "/usr/local/lib/python3.6/dist-packages/sklearn/metrics/classification.py:1143: UndefinedMetricWarning: F-score is ill-defined and being set to 0.0 due to no predicted samples.\n",
            "  'precision', 'predicted', average, warn_for)\n",
            "/usr/local/lib/python3.6/dist-packages/sklearn/metrics/classification.py:1143: UndefinedMetricWarning: F-score is ill-defined and being set to 0.0 due to no predicted samples.\n",
            "  'precision', 'predicted', average, warn_for)\n",
            "/usr/local/lib/python3.6/dist-packages/sklearn/metrics/classification.py:1143: UndefinedMetricWarning: F-score is ill-defined and being set to 0.0 due to no predicted samples.\n",
            "  'precision', 'predicted', average, warn_for)\n",
            "/usr/local/lib/python3.6/dist-packages/sklearn/metrics/classification.py:1143: UndefinedMetricWarning: F-score is ill-defined and being set to 0.0 due to no predicted samples.\n",
            "  'precision', 'predicted', average, warn_for)\n",
            "/usr/local/lib/python3.6/dist-packages/sklearn/metrics/classification.py:1143: UndefinedMetricWarning: F-score is ill-defined and being set to 0.0 due to no predicted samples.\n",
            "  'precision', 'predicted', average, warn_for)\n",
            "/usr/local/lib/python3.6/dist-packages/sklearn/metrics/classification.py:1143: UndefinedMetricWarning: F-score is ill-defined and being set to 0.0 due to no predicted samples.\n",
            "  'precision', 'predicted', average, warn_for)\n",
            "/usr/local/lib/python3.6/dist-packages/sklearn/metrics/classification.py:1143: UndefinedMetricWarning: F-score is ill-defined and being set to 0.0 due to no predicted samples.\n",
            "  'precision', 'predicted', average, warn_for)\n",
            "/usr/local/lib/python3.6/dist-packages/sklearn/metrics/classification.py:1143: UndefinedMetricWarning: F-score is ill-defined and being set to 0.0 due to no predicted samples.\n",
            "  'precision', 'predicted', average, warn_for)\n",
            "/usr/local/lib/python3.6/dist-packages/sklearn/metrics/classification.py:1143: UndefinedMetricWarning: F-score is ill-defined and being set to 0.0 due to no predicted samples.\n",
            "  'precision', 'predicted', average, warn_for)\n",
            "/usr/local/lib/python3.6/dist-packages/sklearn/metrics/classification.py:1143: UndefinedMetricWarning: F-score is ill-defined and being set to 0.0 due to no predicted samples.\n",
            "  'precision', 'predicted', average, warn_for)\n",
            "/usr/local/lib/python3.6/dist-packages/sklearn/metrics/classification.py:1143: UndefinedMetricWarning: F-score is ill-defined and being set to 0.0 due to no predicted samples.\n",
            "  'precision', 'predicted', average, warn_for)\n"
          ],
          "name": "stderr"
        },
        {
          "output_type": "stream",
          "text": [
            "Unoptimized model\n",
            "------\n",
            "Accuracy score on testing data: 0.8576\n",
            "F-score on testing data: 0.7246\n",
            "\n",
            "Optimized Model\n",
            "------\n",
            "Final accuracy score on the testing data: 0.8664\n",
            "Final F-score on the testing data: 0.7432\n"
          ],
          "name": "stdout"
        }
      ]
    },
    {
      "metadata": {
        "colab_type": "text",
        "id": "uQuuPAbCCx6k"
      },
      "cell_type": "markdown",
      "source": [
        "### Questão 5 - Validação final do modelo\n",
        "\n",
        "* Qual é a accuracy e o F-score do modelo otimizado utilizando os dados de testes?\n",
        "* Estes scores são melhores ou piores do que o modelo antes da otimização? \n",
        "* Como os resultados do modelo otimizado se comparam aos benchmarks do naive predictor que você encontrou na **Questão 1**?_\n",
        "\n",
        "**Nota:** Preencha a tabela abaixo com seus resultados e então responda as questões no campo **Resposta** "
      ]
    },
    {
      "metadata": {
        "colab_type": "text",
        "id": "ArrKW37DCx6m"
      },
      "cell_type": "markdown",
      "source": [
        "#### Resultados:\n",
        "\n",
        "|     Metric     | Unoptimized Model | Optimized Model |\n",
        "| :------------: | :---------------: | :-------------: | \n",
        "| Accuracy Score |        0.8576     |     0.8664      |\n",
        "| F-score        |        0.7246     |     0,7432      |\n"
      ]
    },
    {
      "metadata": {
        "colab_type": "text",
        "id": "SXK__CJOCx6n"
      },
      "cell_type": "markdown",
      "source": [
        "**Resposta: **\n",
        "\n",
        "- A accuracy do modelo otimizado e o F-score utilizando os dsdos de teste são respectivamente 0,8664 e 0,7432. \n",
        "\n",
        "\n",
        "- Essas pontuações são melhores que o modelo não otimizado. A accuracy do modelo não otimizado e o F-score são, respectivamente, 0,8576 e 0,7246. \n",
        "\n",
        "\n",
        "- A accuracy e o F-score também melhoraram em comparação com os benchmarks de naive predictor. A accuracy e o F-score do benchmark do naive predictor são, respectivamente, 0,2478 e 0,2917."
      ]
    },
    {
      "metadata": {
        "colab_type": "text",
        "id": "dex6BUrFCx6p"
      },
      "cell_type": "markdown",
      "source": [
        "----\n",
        "## Importância dos atributos\n",
        "\n",
        "Uma tarefa importante quando realizamos aprendizado supervisionado em um conjunto de dados como os dados do censo que estudamos aqui é determinar quais atributos fornecem maior poder de predição. Focando no relacionamento entre alguns poucos atributos mais importantes e na label alvo nós simplificamos muito o nosso entendimento do fenômeno, que é a coisa mais importante a se fazer. No caso deste projeto, isso significa que nós queremos identificar um pequeno número de atributos que possuem maior chance de predizer se um indivíduo possui renda anual superior à \\$50,000.\n",
        "\n",
        "Escolha um classificador da scikit-learn (e.x.: adaboost, random forests) que possua o atributo `feature_importance_`, que é uma função que calcula o ranking de importância dos atributos de acordo com o classificador escolhido. Na próxima célula python ajuste este classificador para o conjunto de treinamento e utilize este atributo para determinar os 5 atributos mais importantes do conjunto de dados do censo."
      ]
    },
    {
      "metadata": {
        "colab_type": "text",
        "id": "am0TadjpCx6r"
      },
      "cell_type": "markdown",
      "source": [
        "### Questão 6 - Observação da Relevância dos Atributos\n",
        "Quando **Exploramos os dados**, vimos que existem treze atributos disponíveis para cada registro nos dados do censo. Destes treze atributos, quais os 5 atributos que você acredita que são os mais importantes para predição e em que ordem você os ranquearia? Por quê?"
      ]
    },
    {
      "metadata": {
        "colab_type": "text",
        "id": "5KqOtN-tCx6u"
      },
      "cell_type": "markdown",
      "source": [
        "**Resposta:**\n",
        "\n",
        "- **age**: as pessoas mais jovens são geralmente menos experientes do que as pessoas mais velhas e, portanto, também pagam menos.\n",
        "\n",
        "\n",
        "- **hours-per-week**: Supondo que duas pessoas tenham a mesma taxa horária, a que trabalha mais horas tem o potencial de ganhar mais dinheiro e é mais provável que esteja ganhando mais de 50K.\n",
        "\n",
        "- **Education level:** pessoas com ensino superior também têm melhores chances de encontrar empregos com salários mais altos\n",
        "\n",
        "- **Workclass**: Trabalhar para o estado ou governo nem sempre paga tanto quanto trabalhar no setor privado.\n",
        "\n",
        "- **Native country:** Pessoas em países do primeiro mundo, como os EUA, tendem a ganhar mais renda do que em outros países."
      ]
    },
    {
      "metadata": {
        "colab_type": "text",
        "id": "eumjGY4zCx6y"
      },
      "cell_type": "markdown",
      "source": [
        "### Implementação - Extraindo a importância do atributo\n",
        "Escolha um algoritmo de aprendizado supervisionado da `sciki-learn` que possui o atributo `feature_importance_` disponível. Este atributo é uma função que ranqueia a importância de cada atributo dos registros do conjunto de dados quando realizamos predições baseadas no algoritmo escolhido.\n",
        "\n",
        "Na célula de código abaixo, você precisará implementar o seguinte:\n",
        " - Importar um modelo de aprendizado supervisionado da sklearn se este for diferente dos três usados anteriormente. \n",
        " - Treinar o modelo supervisionado com todo o conjunto de treinamento.\n",
        " - Extrair a importância dos atributos utilizando `'.feature_importances_'`."
      ]
    },
    {
      "metadata": {
        "colab_type": "code",
        "id": "Jfei6OxECx6z",
        "outputId": "f4f688e4-0165-4f8b-b90b-d9a4699334cf",
        "colab": {
          "base_uri": "https://localhost:8080/",
          "height": 369
        }
      },
      "cell_type": "code",
      "source": [
        "# TODO: Importar um modelo de aprendizado supervisionado que tenha 'feature_importances_'\n",
        "clf = AdaBoostClassifier(random_state=42)\n",
        "# TODO: Treinar o modelo utilizando o conjunto de treinamento com .fit(X_train, y_train)\n",
        "model = clf.fit(X_train,y_train)\n",
        "\n",
        "# TODO: Extrair a importância dos atributos utilizando .feature_importances_ \n",
        "importances = clf.feature_importances_\n",
        "\n",
        "# Plotar\n",
        "vs.feature_plot(importances, X_train, y_train)"
      ],
      "execution_count": 28,
      "outputs": [
        {
          "output_type": "display_data",
          "data": {
            "image/png": "[encoded data removed]",
            "text/plain": [
              "<matplotlib.figure.Figure at 0x7fe6e9277fd0>"
            ]
          },
          "metadata": {
            "tags": []
          }
        }
      ]
    },
    {
      "metadata": {
        "colab_type": "text",
        "id": "kJnqaE_gCx66"
      },
      "cell_type": "markdown",
      "source": [
        "### Questão 7 - Extraindo importância dos atributos\n",
        "\n",
        "Observe a visualização criada acima que exibe os cinco atributos mais relevantes para predizer se um indivíduo possui remuneração igual ou superior à \\$50,000 por ano.\n",
        "\n",
        "* Como estes cinco atributos se comparam com os 5 atributos que você discutiu na **Questão 6**? \n",
        "* Se você estivesse próximo da mesma resposta, como esta visualização confirma o seu raciocínio? \n",
        "* Se você não estava próximo, por que você acha que estes atributos são mais relevantes? "
      ]
    },
    {
      "metadata": {
        "colab_type": "text",
        "id": "0DEgCjkVCx68"
      },
      "cell_type": "markdown",
      "source": [
        "**Resposta:**\n",
        "\n",
        "Minhas previsões estavam apenas parcialmente certas. No entanto, não esperava que **capital-loss** desempenhasse um papel importante. No entanto, esse algoritmo dá a essa  característica juntamente com **age** pesos maiores, pois seus dados provavelmente contêm melhores indicadores do nível de renda das pessoas, o que ajuda o algoritmo a definir um limite de decisão mais forte e mais preciso. Por outro lado, esperava que o número de horas por semana e o nivel de educação fizessem parte dos recursos preditivos de direção, devido às razões mencionadas na minha resposta à pergunta acima."
      ]
    },
    {
      "metadata": {
        "colab_type": "text",
        "id": "vzvDOcGQCx6-"
      },
      "cell_type": "markdown",
      "source": [
        "### Selecionando atributos\n",
        "\n",
        "Como um modelo performa se nós só utilizamos um subconjunto de todos os atributos disponíveis nos dados? Com menos atributos necessários para treinar, a expectativa é que o treinamento e a predição sejam executados em um tempo muito menor — com o custo da redução nas métricas de performance. A partir da visualização acima, nós vemos que os cinco atributos mais importantes contribuem para mais de 50% da importância de **todos** os atributos presentes nos dados. Isto indica que nós podemos tentar *reduzir os atributos* e simplificar a informação necessária para o modelo aprender. O código abaixo utilizará o mesmo modelo otimizado que você encontrou anteriormente e treinará o modelo com o mesmo conjunto de dados de treinamento, porém apenas com *os cinco atributos mais importantes*"
      ]
    },
    {
      "metadata": {
        "colab_type": "code",
        "id": "A7dH0icNCx7A",
        "outputId": "a0214282-4f56-4b6b-abee-b84405817d87",
        "colab": {
          "base_uri": "https://localhost:8080/",
          "height": 170
        }
      },
      "cell_type": "code",
      "source": [
        "# Importar a funcionalidade para clonar um modelo\n",
        "from sklearn.base import clone\n",
        "\n",
        "# Reduzir a quantidade de atributos\n",
        "X_train_reduced = X_train[X_train.columns.values[(np.argsort(importances)[::-1])[:5]]]\n",
        "X_test_reduced = X_test[X_test.columns.values[(np.argsort(importances)[::-1])[:5]]]\n",
        "\n",
        "# Treinar o melhor modelo encontrado com a busca grid anterior\n",
        "clf = (clone(best_clf)).fit(X_train_reduced, y_train)\n",
        "\n",
        "# Fazer novas predições\n",
        "reduced_predictions = clf.predict(X_test_reduced)\n",
        "\n",
        "# Reportar os scores do modelo final utilizando as duas versões dos dados.\n",
        "print(\"Final Model trained on full data\\n------\")\n",
        "print(\"Accuracy on testing data: {:.4f}\".format(accuracy_score(y_test, best_predictions)))\n",
        "print(\"F-score on testing data: {:.4f}\".format(fbeta_score(y_test, best_predictions, beta = 0.5)))\n",
        "print(\"\\nFinal Model trained on reduced data\\n------\")\n",
        "print(\"Accuracy on testing data: {:.4f}\".format(accuracy_score(y_test, reduced_predictions)))\n",
        "print(\"F-score on testing data: {:.4f}\".format(fbeta_score(y_test, reduced_predictions, beta = 0.5)))"
      ],
      "execution_count": 29,
      "outputs": [
        {
          "output_type": "stream",
          "text": [
            "Final Model trained on full data\n",
            "------\n",
            "Accuracy on testing data: 0.8664\n",
            "F-score on testing data: 0.7432\n",
            "\n",
            "Final Model trained on reduced data\n",
            "------\n",
            "Accuracy on testing data: 0.8426\n",
            "F-score on testing data: 0.7044\n"
          ],
          "name": "stdout"
        }
      ]
    },
    {
      "metadata": {
        "colab_type": "text",
        "id": "Aka9DCzaCx7E"
      },
      "cell_type": "markdown",
      "source": [
        "### Questão 8 - Efeitos da seleção de atributos\n",
        "\n",
        "* Como o F-score do modelo final e o accuracy score do conjunto de dados reduzido utilizando apenas cinco atributos se compara aos mesmos indicadores utilizando todos os atributos? \n",
        "* Se o tempo de treinamento é uma variável importante, você consideraria utilizar os dados enxutos como seu conjunto de treinamento? \n"
      ]
    },
    {
      "metadata": {
        "colab_type": "text",
        "id": "Jh3PeyvCCx7G"
      },
      "cell_type": "markdown",
      "source": [
        "**Resposta:**\n",
        "\n",
        "O F-score e a accuracy do modelo final nos dados reduzidos são menores que o modelo, incluindo todos os recursos. Ele desceu de 0,8664 para 0,8426 para a accuracy e 0,7432 para 0,7044 para o F-score. Se fosse uma aplicação em tempo real, eu consideraria o modelo nos dados reduzidos. No entanto, no caso do CharityML, porque o F-score diminuiu, sugiro usar o modelo construído com base no conjunto de dados inteiro."
      ]
    },
    {
      "metadata": {
        "colab_type": "text",
        "id": "RQz1o6M6Cx7H"
      },
      "cell_type": "markdown",
      "source": [
        "> **Nota**: Uma vez que você tenha concluído toda a implementação de código e respondido cada uma das questões acima, você poderá finalizar o seu trabalho exportando o iPython Notebook como um documento HTML. Você pode fazer isso utilizando o menu acima navegando para \n",
        "**File -> Download as -> HTML (.html)**. Inclua este documento junto do seu notebook como sua submissão."
      ]
    }
  ]
}